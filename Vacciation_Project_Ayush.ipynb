{
 "cells": [
  {
   "cell_type": "code",
   "execution_count": 1,
   "metadata": {},
   "outputs": [],
   "source": [
    "import requests\n",
    "from bs4 import BeautifulSoup"
   ]
  },
  {
   "cell_type": "markdown",
   "metadata": {},
   "source": [
    "Load the Total Population of India"
   ]
  },
  {
   "cell_type": "code",
   "execution_count": 2,
   "metadata": {},
   "outputs": [
    {
     "name": "stdout",
     "output_type": "stream",
     "text": [
      "1396124078\n"
     ]
    }
   ],
   "source": [
    "def population():\n",
    "    r = requests.get(\"https://www.worldometers.info/world-population/india-population/\")\n",
    "    soup = BeautifulSoup(r.content, 'html.parser')\n",
    "    target = soup.find(\n",
    "        \"div\", class_=\"col-md-8 country-pop-description\").find_all_next(\"strong\")[1]\n",
    "    return (target.text)\n",
    "\n",
    "total_pop= population()\n",
    "total_pop=total_pop.replace(\",\",\"\")\n",
    "print(total_pop)"
   ]
  },
  {
   "cell_type": "markdown",
   "metadata": {},
   "source": [
    "Total people vaccinated so far"
   ]
  },
  {
   "cell_type": "code",
   "execution_count": 3,
   "metadata": {},
   "outputs": [
    {
     "name": "stdout",
     "output_type": "stream",
     "text": [
      "723784586\n"
     ]
    }
   ],
   "source": [
    "def vaccination_done():\n",
    "    r = requests.get('https://www.mygov.in/covid-19')\n",
    "    soup = BeautifulSoup(r.content,'html.parser')\n",
    "    target = soup.find(\n",
    "        \"div\", class_=\"total-vcount\").find_all_next(\"strong\")[0]\n",
    "    return (target.text)\n",
    "\n",
    "\n",
    "total_vaccinated = vaccination_done()\n",
    "total_vaccinated=total_vaccinated.replace(\",\",\"\")\n",
    "print(total_vaccinated)"
   ]
  },
  {
   "cell_type": "markdown",
   "metadata": {},
   "source": [
    "no. of people vaccinating in a day"
   ]
  },
  {
   "cell_type": "code",
   "execution_count": 4,
   "metadata": {},
   "outputs": [
    {
     "name": "stdout",
     "output_type": "stream",
     "text": [
      "6758491\n"
     ]
    }
   ],
   "source": [
    "def avg_vaccination_daily():\n",
    "    r = requests.get('https://www.mygov.in/covid-19')\n",
    "    soup = BeautifulSoup(r.content, 'html.parser')\n",
    "    target = soup.find(\n",
    "        \"div\", class_=\"yday-vcount\").find_all_next(\"strong\")[0]\n",
    "    return (target.text)\n",
    "\n",
    "daily_vaccination = avg_vaccination_daily()\n",
    "daily_vaccination=daily_vaccination.replace(\",\",\"\")\n",
    "print(daily_vaccination)"
   ]
  },
  {
   "cell_type": "markdown",
   "metadata": {},
   "source": [
    "Days left to complete the vaccination of entire India"
   ]
  },
  {
   "cell_type": "code",
   "execution_count": 5,
   "metadata": {},
   "outputs": [
    {
     "name": "stdout",
     "output_type": "stream",
     "text": [
      "Total days left to complete vaccination process in India is :99\n"
     ]
    }
   ],
   "source": [
    "vaccination_left = float(total_pop) - float(total_vaccinated)\n",
    "days_left = vaccination_left / float(daily_vaccination)\n",
    "\n",
    "print('Total days left to complete vaccination process in India is :' + str(round(days_left)))\n",
    "\n"
   ]
  },
  {
   "cell_type": "code",
   "execution_count": null,
   "metadata": {},
   "outputs": [],
   "source": []
  }
 ],
 "metadata": {
  "kernelspec": {
   "display_name": "Python 3",
   "language": "python",
   "name": "python3"
  },
  "language_info": {
   "codemirror_mode": {
    "name": "ipython",
    "version": 3
   },
   "file_extension": ".py",
   "mimetype": "text/x-python",
   "name": "python",
   "nbconvert_exporter": "python",
   "pygments_lexer": "ipython3",
   "version": "3.6.5"
  }
 },
 "nbformat": 4,
 "nbformat_minor": 2
}
